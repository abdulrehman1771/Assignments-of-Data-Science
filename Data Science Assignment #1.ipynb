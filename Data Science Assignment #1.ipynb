{
 "cells": [
  {
   "cell_type": "code",
   "execution_count": 3,
   "id": "3ada6968",
   "metadata": {},
   "outputs": [
    {
     "name": "stdout",
     "output_type": "stream",
     "text": [
      "Twinkle, twinkle, little star,\n",
      "    How I wonder what you are!\n",
      "    Up above the world so high,\n",
      "    Like a diamond in the sky.\n",
      "Twinkle, twinkle, little star,\n",
      "    How I wonder what you are!\n",
      "\n"
     ]
    }
   ],
   "source": [
    "# Object 1: Write a Python program to print the following string in a specific format.\n",
    "\n",
    "print(\"\"\"Twinkle, twinkle, little star,\n",
    "    How I wonder what you are!\n",
    "    Up above the world so high,\n",
    "    Like a diamond in the sky.\n",
    "Twinkle, twinkle, little star,\n",
    "    How I wonder what you are!\n",
    "\"\"\")"
   ]
  },
  {
   "cell_type": "code",
   "execution_count": 4,
   "id": "429d3bdd",
   "metadata": {},
   "outputs": [
    {
     "name": "stdout",
     "output_type": "stream",
     "text": [
      "Current Python Version is :  3.8.8 (default, Apr 13 2021, 15:08:03) [MSC v.1916 64 bit (AMD64)]\n"
     ]
    }
   ],
   "source": [
    "# Object 2: Write a Python program to get the Python version you are using\n",
    "\n",
    "import sys\n",
    "pyVersion = \"Current Python Version is : \";\n",
    "version = sys.version;\n",
    "\n",
    "print(pyVersion, version)"
   ]
  },
  {
   "cell_type": "code",
   "execution_count": 6,
   "id": "970a1429",
   "metadata": {},
   "outputs": [
    {
     "name": "stdout",
     "output_type": "stream",
     "text": [
      "Current Date and Time is :  2022-01-02 21:23:25.877343\n"
     ]
    }
   ],
   "source": [
    "# Object 3: Write a Python program to display the current date and time.\n",
    "\n",
    "import datetime\n",
    "current = \"Current Date and Time is : \";\n",
    "\n",
    "print(current, datetime.datetime.now())"
   ]
  },
  {
   "cell_type": "code",
   "execution_count": 9,
   "id": "890e7c47",
   "metadata": {},
   "outputs": [
    {
     "name": "stdout",
     "output_type": "stream",
     "text": [
      "Please provide the value of radius to calculate Area.5\n",
      "78.5\n"
     ]
    }
   ],
   "source": [
    "# Object 4: Write a Python program which accepts the radius of a circle from the user and compute the area.\n",
    "\n",
    "radius = float(input(\"Please provide the value of radius to calculate Area.\"))\n",
    "area = 3.14 * (radius)**2;\n",
    "\n",
    "print(area)"
   ]
  },
  {
   "cell_type": "code",
   "execution_count": 10,
   "id": "b0513af6",
   "metadata": {},
   "outputs": [
    {
     "name": "stdout",
     "output_type": "stream",
     "text": [
      "Please enter your First Name :Abdul\n",
      "Please enter you Last Name :Rehman\n",
      "namheR ludbA\n"
     ]
    }
   ],
   "source": [
    "# Object 5: Write a Python program which accepts the user's first and last name and print them in reverse order with a space between them.\n",
    "\n",
    "fName = str(input(\"Please enter your First Name :\"));\n",
    "lName = str(input(\"Please enter you Last Name :\"));\n",
    "fullName = fName+\" \"+lName;\n",
    "\n",
    "print(fullName  [::-1])"
   ]
  },
  {
   "cell_type": "code",
   "execution_count": 11,
   "id": "a23c7675",
   "metadata": {},
   "outputs": [
    {
     "name": "stdout",
     "output_type": "stream",
     "text": [
      "Please enter something.Abdul\n",
      "Please enter else more.Rehman\n",
      "AbdulRehman\n"
     ]
    }
   ],
   "source": [
    "# Object 6: Write a python program which takes two inputs from user and print them addition\n",
    "\n",
    "option1 = str(input(\"Please enter something.\"));\n",
    "option2 = str(input(\"Please enter else more.\"));\n",
    "\n",
    "conc = option1 + option2;\n",
    "\n",
    "print(conc)"
   ]
  }
 ],
 "metadata": {
  "kernelspec": {
   "display_name": "Python 3",
   "language": "python",
   "name": "python3"
  },
  "language_info": {
   "codemirror_mode": {
    "name": "ipython",
    "version": 3
   },
   "file_extension": ".py",
   "mimetype": "text/x-python",
   "name": "python",
   "nbconvert_exporter": "python",
   "pygments_lexer": "ipython3",
   "version": "3.8.8"
  }
 },
 "nbformat": 4,
 "nbformat_minor": 5
}
